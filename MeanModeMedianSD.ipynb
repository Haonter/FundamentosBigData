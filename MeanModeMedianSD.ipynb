{
  "nbformat": 4,
  "nbformat_minor": 0,
  "metadata": {
    "colab": {
      "provenance": [],
      "authorship_tag": "ABX9TyO3pNh24XzJtE52sWZwwqRF",
      "include_colab_link": true
    },
    "kernelspec": {
      "name": "python3",
      "display_name": "Python 3"
    },
    "language_info": {
      "name": "python"
    }
  },
  "cells": [
    {
      "cell_type": "markdown",
      "metadata": {
        "id": "view-in-github",
        "colab_type": "text"
      },
      "source": [
        "<a href=\"https://colab.research.google.com/github/Haonter/FundamentosBigData/blob/main/MeanModeMedianSD.ipynb\" target=\"_parent\"><img src=\"https://colab.research.google.com/assets/colab-badge.svg\" alt=\"Open In Colab\"/></a>"
      ]
    },
    {
      "cell_type": "code",
      "execution_count": null,
      "metadata": {
        "colab": {
          "base_uri": "https://localhost:8080/"
        },
        "id": "-6yiK_NEoqDo",
        "outputId": "62d44a43-2c53-4438-8eaa-cd4ecb230e03"
      },
      "outputs": [
        {
          "output_type": "stream",
          "name": "stdout",
          "text": [
            "89.76923076923077\n"
          ]
        }
      ],
      "source": [
        "# Importamos Numpy con el alias \"np\"\n",
        "import numpy as np\n",
        "\n",
        "# Creamos un array (en esta caso simulamos velocidades de autos)\n",
        "speed = [99,86,87,88,111,86,103,87,94,78,77,85,86]\n",
        "\n",
        "# Utilizamos el metodo mean para obtener la media (promedio) de los valores del array\n",
        "x = np.mean(speed)\n",
        "\n",
        "# Mostramos la media (promedio)\n",
        "print(x)"
      ]
    },
    {
      "cell_type": "code",
      "source": [
        "# Ustilizamos el metodo median para obtener la mediana de los valores del array\n",
        "y = np.median(speed)\n",
        "\n",
        "# Mostramos la mediana\n",
        "print(y)"
      ],
      "metadata": {
        "colab": {
          "base_uri": "https://localhost:8080/"
        },
        "id": "wVZijJ-drqiH",
        "outputId": "fedcd370-47ec-4792-ee9d-ec34d6bc9d23"
      },
      "execution_count": null,
      "outputs": [
        {
          "output_type": "stream",
          "name": "stdout",
          "text": [
            "87.0\n"
          ]
        }
      ]
    },
    {
      "cell_type": "code",
      "source": [
        "# Traemos stats de numpy\n",
        "from scipy import stats as st\n",
        "\n",
        "# Creamos una variable que simula votos para 3 candidatos\n",
        "votos = [1,2,1,2,3,2,3,2,3,2,1,1,1,3,1,3,1,3,2,3,1,2,3,1,2,3,1,2,1,2,3,2,3,2,1,2,1,2,3,2,3,2,1,2,3,3,2,3,2,1,2,1,2,3,2,1,2,3,1,2,3,1,2]\n",
        "\n",
        "# Usilizamos stats para obtener la moda\n",
        "ganador = st.mode(votos)\n",
        "\n",
        "print(ganador)"
      ],
      "metadata": {
        "colab": {
          "base_uri": "https://localhost:8080/"
        },
        "id": "mPrhNZjssWix",
        "outputId": "e01b2133-1a89-4cce-b7e6-a60aa4b795cf"
      },
      "execution_count": null,
      "outputs": [
        {
          "output_type": "stream",
          "name": "stdout",
          "text": [
            "ModeResult(mode=2, count=25)\n"
          ]
        }
      ]
    },
    {
      "cell_type": "code",
      "source": [
        "# Desviación estándar: Indica cuánto se separan los valores individuales del valor promedio del conjunto de datos, La media.\n",
        "# Un valor alto indica que los datos están dispersos, mientras que un valor bajo indica que están agrupados cerca de la media.\n",
        "\n",
        "# Ejemplo con campana de gauss:\n",
        "# https://upload.wikimedia.org/wikipedia/commons/thumb/8/8c/Standard_deviation_diagram.svg/450px-Standard_deviation_diagram.svg.png\n",
        "\n",
        "# Importamos la libreria de tiempo\n",
        "import time as tm\n",
        "\n",
        "lista1 = [10, 15, 20, 25, 30]\n",
        "\n",
        "\n",
        "# std(): Es una función de NumPy que calcula la desviación estándar de un conjunto de datos.\n",
        "# Toma un arreglo de datos como entrada y devuelve la desviación estándar.\n",
        "desviacionEstandar1 = np.std(lista1)\n",
        "print(f\"Desviación estándar del primer conjunto de datos: {desviacionEstandar1}\")\n",
        "\n",
        "\n",
        "\n",
        "\n",
        "tm.sleep(3.5)\n",
        "\n",
        "lista2 = [2.5, 3.5, 4.0, 4.5, 5.0, 4.5, 3.5, 2.5, 3.5, 7.5, 8.5, 3.5]\n",
        "desviacionEstandar2 = np.std(lista2)\n",
        "print(f\"Desviación estándar del segundo conjunto de datos: {desviacionEstandar2}\")\n",
        "\n",
        "\n",
        "\n",
        "tm.sleep(3.5)\n",
        "\n",
        "lista3 = [17.8, 18.9, 20.1, 21.5, 22.7]\n",
        "desviacionEstandar3 = np.std(lista3)\n",
        "print(f\"Desviación estándar del tercer conjunto de datos: {desviacionEstandar3}\")\n",
        "\n",
        "\n",
        "\n",
        "tm.sleep(3.5)\n",
        "\n",
        "lista4 = [10,12,20,12,10]\n",
        "desviacionEstandar4 = np.std(lista4)\n",
        "print(f\"Desviación estándar del cuarto conjunto de datos: {desviacionEstandar4}\")\n",
        "\n",
        "\n",
        "#     Hasta aqui muy bien, pero... ¿Como se llega a este resultado?\n",
        "\n",
        "#     Primero se calcula la media:\n",
        "#     Media = (10 + 12 + 20 + 12 + 10) / 5 = 12.8\n",
        "\n",
        "#     Luego se calcula las diferencias entre cada dato y la media, y luego calcula los cuadrados de estas diferencias:\n",
        "#     Diferencias:\n",
        "#         diferencia1: 10 - 12.8 = -2.8\n",
        "#         diferencia2: 12 - 12.8 = -0.8\n",
        "#         diferencia3: 20 - 12.8 = 7.2\n",
        "#         diferencia4: 12 - 12.8 = -0.8\n",
        "#         diferencia5: 10 - 12.8 = -2.8\n",
        "\n",
        "#     Cuadrados de diferencias:\n",
        "#         cuadradoDiferencia1: -2.8 x -2.8 = 7.84\n",
        "#         cuadradoDiferencia2:  0.8 x 0.8 = 0.64\n",
        "#         cuadradoDiferencia3:  7.2 x 7.2 = 51.84\n",
        "#         cuadradoDiferencia4: -0.8 x -0.8 = 0.64\n",
        "#         cuadradoDiferencia5: -2.8 x -2.8 = 7.84\n",
        "\n",
        "#     Posteriormente se suman los cuadrados de las diferencias:\n",
        "#         sumaCuadrados: 7.84 + 0.64 + 51.84 + 0.64 + 7.84 = 69.8\n",
        "\n",
        "#     y se divide la suma de cuadrados de diferencias por el número de datos menos uno (grados de libertad):\n",
        "#         Varianza: 69.8 / (5 - 1) = 17.45\n",
        "\n",
        "#     Por ultimo se calcula la raíz cuadrada de la varianza para obtener la desviación estándar:\n",
        "#         Desviación Estándar: √17.45 ≈ 3.7094473921982814\n",
        "\n",
        "#     Gracias a std() se puede obtener la desviación estándar sin necesidad de realizar todo este proceso de forma manual."
      ],
      "metadata": {
        "colab": {
          "base_uri": "https://localhost:8080/"
        },
        "id": "PNcNjZP7uS9n",
        "outputId": "a26b527b-0c11-4a4c-da03-62a05d2715fd"
      },
      "execution_count": null,
      "outputs": [
        {
          "output_type": "stream",
          "name": "stdout",
          "text": [
            "Desviación estándar del primer conjunto de datos: 7.0710678118654755\n",
            "Desviación estándar del segundo conjunto de datos: 1.7658016750347576\n",
            "Desviación estándar del tercer conjunto de datos: 1.7549928774784243\n",
            "Desviación estándar del cuarto conjunto de datos: 3.7094473981982814\n"
          ]
        }
      ]
    }
  ]
}